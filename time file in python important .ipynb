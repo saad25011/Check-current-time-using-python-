{
 "cells": [
  {
   "cell_type": "code",
   "execution_count": 23,
   "metadata": {},
   "outputs": [
    {
     "name": "stdout",
     "output_type": "stream",
     "text": [
      "15 : 5 : 24 :\n"
     ]
    }
   ],
   "source": [
    "import time\n",
    "current_time =time.time()\n",
    "total_sec =int(current_time)\n",
    "current_sec =total_sec % 60\n",
    "total_min =total_sec // 60\n",
    "current_min =total_min % 69\n",
    "total_hour =total_min // 60\n",
    "current_hour =total_hour % 24\n",
    "\n",
    "print(current_hour , \":\" , current_min , \":\" , current_sec , \":\")"
   ]
  },
  {
   "cell_type": "code",
   "execution_count": null,
   "metadata": {},
   "outputs": [],
   "source": []
  }
 ],
 "metadata": {
  "kernelspec": {
   "display_name": "Python 3",
   "language": "python",
   "name": "python3"
  },
  "language_info": {
   "codemirror_mode": {
    "name": "ipython",
    "version": 3
   },
   "file_extension": ".py",
   "mimetype": "text/x-python",
   "name": "python",
   "nbconvert_exporter": "python",
   "pygments_lexer": "ipython3",
   "version": "3.8.3"
  }
 },
 "nbformat": 4,
 "nbformat_minor": 4
}
